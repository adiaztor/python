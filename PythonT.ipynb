{
 "cells": [
  {
   "cell_type": "markdown",
   "metadata": {},
   "source": [
    "# TRABAJO DE PYTHON\n",
    "\n",
    "### Este trabajo cuenta el 30% de la nota. La entrega será el 5 de Noviembre a las 23:59.\n",
    "\n",
    "### Resuelve los siguientes ejercicios en Python sin usar expresiones regulares\n",
    "\n",
    "#### Utiliza tantas celdas de código como necesites\n",
    "\n",
    "##\n",
    "\n",
    "\n",
    "\n",
    "\n",
    "\n",
    "\n",
    "\n"
   ]
  },
  {
   "cell_type": "markdown",
   "metadata": {},
   "source": [
    "### 1.- BUSCA LA SECUENCIA COMPLEMENTARIA\n",
    "#### Devuelve la secuencia complementaria de la siguiente secuencia de ADN"
   ]
  },
  {
   "cell_type": "code",
   "execution_count": 14,
   "metadata": {},
   "outputs": [],
   "source": [
    "my_dna = \"ACTGATCGATTACGTATAGTATTTGCTATCATACATATATATCGATGCGTTCAT\""
   ]
  },
  {
   "cell_type": "code",
   "execution_count": 22,
   "metadata": {},
   "outputs": [],
   "source": [
    "def cambiar_letras(cadena):\n",
    "    # Creamos un diccionario con las letras a cambiar\n",
    "    letras = {'A': 'T', 'C': 'G', 'T': 'A', 'G': 'C'}\n",
    "    # Creamos una lista vacía para guardar las letras cambiadas\n",
    "    nueva_cadena = []\n",
    "    # Iteramos sobre cada letra de la cadena original\n",
    "    for letra in cadena:\n",
    "        # Si la letra está en el diccionario, la cambiamos\n",
    "        if letra in letras:\n",
    "            nueva_cadena.append(letras[letra])\n",
    "        # Si no, añadimos la letra original a la nueva cadena\n",
    "        else:\n",
    "            nueva_cadena.append(letra)\n",
    "    # Unimos las letras cambiadas en una sola cadena y la devolvemos\n",
    "    return ''.join(nueva_cadena)\n",
    "cadena_original = \"ACTGATCGATTACGTATAGTATTTGCTATCATACATATATATCGATGCGTTCAT\"\n",
    "cadena_cambiada = cambiar_letras(cadena_original)"
   ]
  },
  {
   "cell_type": "code",
   "execution_count": 23,
   "metadata": {},
   "outputs": [
    {
     "name": "stdout",
     "output_type": "stream",
     "text": [
      "TGACTAGCTAATGCATATCATAAACGATAGTATGTATATATAGCTACGCAAGTA\n"
     ]
    }
   ],
   "source": [
    "print (cadena_cambiada)"
   ]
  },
  {
   "cell_type": "markdown",
   "metadata": {},
   "source": [
    "##\n",
    "### 2.- FRAGMENTOS DE RESTRICCION\n",
    "#### Obtén los fragmentos de restricción de EcoRI, que tiene un sitio de corte en G*AATTC (la posición de corte se indica por el *).\n",
    "#### No uses expresiones regulares. \n",
    "#### Pista: utiliza la función find()"
   ]
  },
  {
   "cell_type": "code",
   "execution_count": 24,
   "metadata": {
    "scrolled": true
   },
   "outputs": [],
   "source": [
    "my_dna = \"ACTGATCGATTACGTATAGTATTTGCTATGAATTCCATACATATATATCGATGCGTTCAT\""
   ]
  },
  {
   "cell_type": "code",
   "execution_count": 25,
   "metadata": {},
   "outputs": [
    {
     "name": "stdout",
     "output_type": "stream",
     "text": [
      "Posición de corte de EcoRI: 30\n",
      "Fragmento 1: ACTGATCGATTACGTATAGTATTTGCTATG\n",
      "Fragmento 2: AATTCCATACATATATATCGATGCGTTCAT\n"
     ]
    }
   ],
   "source": [
    "# Encontrar la posición de corte del sitio de EcoRI\n",
    "ecori_site = \"GAATTC\"\n",
    "cut_position = my_dna.find(ecori_site) + 1  # Encuentra la posición de corte 1 para obtener la posición después de G*\n",
    "print(\"Posición de corte de EcoRI:\", cut_position)\n",
    "\n",
    "# Dividir la cadena de ADN en fragmentos\n",
    "fragment1 = my_dna[:cut_position]\n",
    "fragment2 = my_dna[cut_position:]\n",
    "\n",
    "print(\"Fragmento 1:\", fragment1)\n",
    "print(\"Fragmento 2:\", fragment2)"
   ]
  },
  {
   "cell_type": "markdown",
   "metadata": {},
   "source": [
    "##\n",
    "### 3.- ENCUENTRA LOS EXONES\n",
    "#### Encuentra los exones en la siguiente secuencia\n",
    "1. El primer exón va de la primera base a la base 63 (empieza a contar desde 0)\n",
    "2. El segundo exón va de la base 91 (contando desde 0) hasta el final\n",
    "3. Calcula el porcentaje de secuencia codificante\n",
    "4. Imprime en pantalla la secuencia original con los exones en mayúsculas y los intrones en minúsculas"
   ]
  },
  {
   "cell_type": "code",
   "execution_count": 26,
   "metadata": {},
   "outputs": [],
   "source": [
    "genomic_dna = \"ATCGATCGATCGATCGACTGACTAGTCATAGCTATGCATGTAGCTACTCGATCGATCGATCGATCGATCGATCGATCGATCGATCATGCTATCATCGATCGATATCGATGCATCGACTACTAT\""
   ]
  },
  {
   "cell_type": "code",
   "execution_count": 27,
   "metadata": {},
   "outputs": [
    {
     "name": "stdout",
     "output_type": "stream",
     "text": [
      "Secuencia original: ATCGATCGATCGATCGACTGACTAGTCATAGCTATGCATGTAGCTACTCGATCGATCGATCGATcgatcgatcgatcgatcgatcatgctaTCATCGATCGATATCGATGCATCGACTACTAT\n",
      "Porcentaje de secuencia codificante: 78.05%\n"
     ]
    }
   ],
   "source": [
    "# Definir los límites de los exones\n",
    "primer_exon = genomic_dna[:64].upper()\n",
    "segundo_exon = genomic_dna[91:].upper()\n",
    "intrones = genomic_dna[64:91].lower()\n",
    "\n",
    "# Se calcula el porcentaje de secuencia codificante\n",
    "secuencia_codificante = primer_exon + segundo_exon\n",
    "porcentaje_codificante = (len(secuencia_codificante) / len(genomic_dna)) * 100\n",
    "\n",
    "# Ver los resultados\n",
    "print(f\"Secuencia original: {primer_exon}{intrones}{segundo_exon}\")\n",
    "print(f\"Porcentaje de secuencia codificante: {porcentaje_codificante:.2f}%\")"
   ]
  },
  {
   "cell_type": "markdown",
   "metadata": {},
   "source": [
    "##\n",
    "### 4.- ESCRIBE UN ARCHIVO FASTA\n",
    "#### Escribe un archivo FASTA que tenga las siguientes secuencias:\n",
    "1. ABC123 \tATCGTACGATCGATCGATCGCTAGACGTATCG\n",
    "2. DEF456 \tactgatcgacgatcgatcgatcacgact\n",
    "3. HIJ789 \tACTGAC-ACTGT--ACTGTA----CATGTG\n",
    "\n",
    "###### *Ten en cuenta que todas las secuencias deben tener solo ATGC caracteres y tienen que estar en mayúsculas\n",
    "###### Recuerda que las secuencias en FASTA empiezan por una línea \">identificador\" y la siguiente línea tiene la secuencia\n",
    "\n",
    "###### >ABC123\n",
    "###### ATCGTACGATCGATCGATCGCTAGACGTATCG\n",
    "###### >DEF456\n",
    "###### ACTGATCGACGATCGATCGATCACGACT\n",
    "###### >HIJ789\n",
    "###### ACTGACACTGTACTGTACATGTG"
   ]
  },
  {
   "cell_type": "code",
   "execution_count": 1,
   "metadata": {},
   "outputs": [
    {
     "name": "stdout",
     "output_type": "stream",
     "text": [
      "ABC123\n",
      "ATCGTACGATCGATCGATCGCTAGACGTATCG\n",
      "DEF456\n",
      "actgatcgacgatcgatcgatcacgact\n",
      "HIJ789\n",
      "ACTGAC-ACTGT--ACTGTA----CATGTG\n"
     ]
    }
   ],
   "source": [
    "d={\n",
    "    'ABC123' :'ATCGTACGATCGATCGATCGCTAGACGTATCG',\n",
    "    'DEF456' : 'actgatcgacgatcgatcgatcacgact',\n",
    "    'HIJ789' : 'ACTGAC-ACTGT--ACTGTA----CATGTG'\n",
    "}\n",
    "\n",
    "for key in d.keys():\n",
    "    print(key)\n",
    "    print(d[key])"
   ]
  },
  {
   "cell_type": "code",
   "execution_count": 31,
   "metadata": {},
   "outputs": [],
   "source": [
    "# Secuencias proporcionadas\n",
    "sequences = {\n",
    "    \"ABC123\": \"ATCGTACGATCGATCGATCGCTAGACGTATCG\",\n",
    "    \"DEF456\": \"ACTGATCGACGATCGATCGATCACGACT\",\n",
    "    \"HIJ789\": \"ACTGACACTGTACTGTACATGTG\"\n",
    "}\n",
    "\n",
    "# Escribir las secuencias en formato FASTA en un archivo\n",
    "with open(\"secuencias.fasta\", \"w\") as file:\n",
    "    for identifier, sequence in sequences.items():\n",
    "        sequence = sequence.upper().replace(\"-\", \"\")  # Convertir a mayúsculas y quitar guiones\n",
    "        file.write(f\">{identifier}\\n{sequence}\\n\")"
   ]
  },
  {
   "cell_type": "code",
   "execution_count": 33,
   "metadata": {},
   "outputs": [
    {
     "name": "stdout",
     "output_type": "stream",
     "text": [
      ">ABC123\n",
      "ATCGTACGATCGATCGATCGCTAGACGTATCG\n",
      ">DEF456\n",
      "ACTGATCGACGATCGATCGATCACGACT\n",
      ">HIJ789\n",
      "ACTGACACTGTACTGTACATGTG\n",
      "\n"
     ]
    }
   ],
   "source": [
    "#Para abrir y leer el archivo:\n",
    "with open(\"secuencias.fasta\", \"r\") as file:\n",
    "    content = file.read()\n",
    "#Para imprimir el archivo    \n",
    "print (content)"
   ]
  },
  {
   "cell_type": "markdown",
   "metadata": {},
   "source": [
    "##\n",
    "### 5.- ELIMINA ADAPTADORES\n",
    "#### El archivo input.txt tiene unas secuencias de ADN, una por línea. \n",
    "#### Todas las secuencias empiezan con el mismo adaptador que llega hasta la base 14. Escribe un programa que:\n",
    "1. Remueva el adaptador de la secuencia y escriba la secuencia limpia en un archivo\n",
    "2. Imprima en pantalla la longitud de cada secuencia limpia"
   ]
  },
  {
   "cell_type": "code",
   "execution_count": 34,
   "metadata": {},
   "outputs": [
    {
     "name": "stdout",
     "output_type": "stream",
     "text": [
      "Longitud de la secuencia limpia: 42\n",
      "Longitud de la secuencia limpia: 37\n",
      "Longitud de la secuencia limpia: 48\n",
      "Longitud de la secuencia limpia: 33\n",
      "Longitud de la secuencia limpia: 47\n"
     ]
    }
   ],
   "source": [
    "# Función para procesar las secuencias y eliminar los adaptadores\n",
    "def eliminar_adaptadores(input_file, output_file):\n",
    "    with open(input_file, 'r') as file:\n",
    "        sequences = file.readlines()  # Lee todas las líneas del archivo\n",
    "\n",
    "    cleaned_sequences = []  # Lista para almacenar las secuencias limpias\n",
    "\n",
    "    with open(output_file, 'w') as output:\n",
    "        for sequence in sequences:\n",
    "            cleaned_sequence = sequence[14:].strip()  # Elimino el adaptador y los espacios en blanco\n",
    "            cleaned_sequences.append(cleaned_sequence)\n",
    "            output.write(cleaned_sequence + '\\n')  # Escribo la secuencia limpia en el archivo de salida\n",
    "            print(f\"Longitud de la secuencia limpia: {len(cleaned_sequence)}\")  # Imprimo la longitud\n",
    "\n",
    "    return cleaned_sequences\n",
    "\n",
    "# Se dice a la función que procese las secuencias y elimine los adaptadores\n",
    "input_file = 'input.txt'\n",
    "output_file = 'cleaned_sequences.txt'\n",
    "cleaned_sequences = eliminar_adaptadores(input_file, output_file)"
   ]
  },
  {
   "cell_type": "markdown",
   "metadata": {},
   "source": [
    "##\n",
    "### 6.- PORCENTAJE DE AMINO ACIDOS\n",
    "#### Escribe una función que tome dos argumentos: una secuencia de proteínas y un amino ácido. \n",
    "#### Queremos que devuelva el porcentaje del amino ácido en la secuencia de proteínas. \n",
    "#### Una vez que tengas hecha tu función, emplea las siguientes aserciones para comprobar tu código."
   ]
  },
  {
   "cell_type": "code",
   "execution_count": 37,
   "metadata": {},
   "outputs": [],
   "source": [
    "assert my_function(\"MSRSLLLRFLLFLLLLPPLP\", \"M\") == 5\n",
    "assert my_function(\"MSRSLLLRFLLFLLLLPPLP\", \"r\") == 10\n",
    "assert my_function(\"msrslllrfllfllllpplp\", \"L\") == 50\n",
    "assert my_function(\"MSRSLLLRFLLFLLLLPPLP\", \"Y\") == 0"
   ]
  },
  {
   "cell_type": "code",
   "execution_count": 36,
   "metadata": {},
   "outputs": [],
   "source": [
    "#Creo la función con dos argumentos\n",
    "def my_function(secuencia_proteina, aminoacido):\n",
    "    secuencia_proteina = secuencia_proteina.upper()\n",
    "    aminoacido = aminoacido.upper()\n",
    "#Pido el porcentaje de Aa para la secuencia de proteínas\n",
    "    total_aminoacidos = len(secuencia_proteina)\n",
    "    aminoacido_count = secuencia_proteina.count(aminoacido)\n",
    "    porcentaje = (aminoacido_count / total_aminoacidos) * 100\n",
    "    return porcentaje"
   ]
  }
 ],
 "metadata": {
  "kernelspec": {
   "display_name": "Python 3 (ipykernel)",
   "language": "python",
   "name": "python3"
  },
  "language_info": {
   "codemirror_mode": {
    "name": "ipython",
    "version": 3
   },
   "file_extension": ".py",
   "mimetype": "text/x-python",
   "name": "python",
   "nbconvert_exporter": "python",
   "pygments_lexer": "ipython3",
   "version": "3.11.4"
  }
 },
 "nbformat": 4,
 "nbformat_minor": 4
}
